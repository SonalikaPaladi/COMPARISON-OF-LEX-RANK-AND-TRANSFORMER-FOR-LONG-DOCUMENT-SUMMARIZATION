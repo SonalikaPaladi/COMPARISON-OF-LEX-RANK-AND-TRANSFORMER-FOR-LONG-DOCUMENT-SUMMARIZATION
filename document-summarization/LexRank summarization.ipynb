{
 "cells": [
  {
   "cell_type": "code",
   "execution_count": 1,
   "id": "4bcb63cc",
   "metadata": {},
   "outputs": [
    {
     "name": "stderr",
     "output_type": "stream",
     "text": [
      "[nltk_data] Downloading package punkt to\n",
      "[nltk_data]     C:\\Users\\USER\\AppData\\Roaming\\nltk_data...\n",
      "[nltk_data]   Package punkt is already up-to-date!\n"
     ]
    },
    {
     "data": {
      "text/plain": [
       "True"
      ]
     },
     "execution_count": 1,
     "metadata": {},
     "output_type": "execute_result"
    }
   ],
   "source": [
    "import os\n",
    "import re\n",
    "import nltk\n",
    "import numpy as np\n",
    "from sumy.parsers.plaintext import PlaintextParser\n",
    "from sumy.nlp.tokenizers import Tokenizer\n",
    "from sumy.summarizers.lex_rank import LexRankSummarizer\n",
    "import nltk\n",
    "nltk.download('punkt')"
   ]
  },
  {
   "cell_type": "code",
   "execution_count": 2,
   "id": "54f6891a",
   "metadata": {},
   "outputs": [
    {
     "name": "stdout",
     "output_type": "stream",
     "text": [
      "In recent years, artificial intelligence (AI) has become a transformative force in various industries.From healthcare to finance, AI technologies are being employed to enhance efficiency, make data-driven decisions, and create innovative solutions.Machine learning, a subset of AI, enables systems to learn and improve from experience without explicit programming.One notable application of AI is in natural language processing (NLP).NLP allows computers to understand, interpret, and generate human-like text.This capability is crucial for chatbots, language translation, and sentiment analysis.OpenAI's GPT-3, for instance, is a powerful NLP model that has demonstrated remarkable language understanding and generation capabilities.Despite the advancements, ethical considerations surrounding AI continue to be a topic of discussion.Issues such as bias in algorithms, data privacy, and job displacement raise concerns.Striking a balance between technological progress and ethical responsibility is essential to ensure that AI benefits society as a whole.In conclusion, artificial intelligence, particularly in the form of machine learning and natural language processing, is reshaping industries and bringing about significant changes.As we embrace these advancements, it is crucial to address ethical considerations and work towards responsible AI development.\n"
     ]
    }
   ],
   "source": [
    "parser = PlaintextParser.from_file(\"content/justafile.txt\", Tokenizer(\"english\"))\n",
    "summarizer = LexRankSummarizer()\n",
    "summary_sentences = summarizer(parser.document, 104)\n",
    "summary = \"\"\n",
    "for sentence in summary_sentences:\n",
    " summary += str(sentence)\n",
    "summary = re.sub(r'\\s+', ' ', summary)\n",
    "print(summary)"
   ]
  },
  {
   "cell_type": "code",
   "execution_count": 3,
   "id": "d481bf10",
   "metadata": {},
   "outputs": [],
   "source": [
    "reference_summary=\"\"\"Artificial intelligence (AI) is transforming industries by enhancing efficiency and enabling data-driven decisions.\n",
    "Machine learning, a subset of AI, facilitates learning from experience without explicit programming. \n",
    "Natural language processing (NLP) is a key application, allowing computers to understand and generate human-like text. \n",
    "OpenAI's GPT-3 exemplifies powerful NLP capabilities. Despite advancements, ethical concerns like bias, data privacy, and job displacement persist. \n",
    "Striking a balance between progress and ethical responsibility is crucial for the positive impact of AI on society.\n",
    "\"\"\""
   ]
  },
  {
   "cell_type": "code",
   "execution_count": 4,
   "id": "94b14e25",
   "metadata": {},
   "outputs": [
    {
     "name": "stdout",
     "output_type": "stream",
     "text": [
      "[\n",
      "    {\n",
      "        \"rouge-1\": {\n",
      "            \"r\": 0.6857142857142857,\n",
      "            \"p\": 0.35555555555555557,\n",
      "            \"f\": 0.4682926784295063\n",
      "        },\n",
      "        \"rouge-2\": {\n",
      "            \"r\": 0.4358974358974359,\n",
      "            \"p\": 0.18478260869565216,\n",
      "            \"f\": 0.25954198055125\n",
      "        },\n",
      "        \"rouge-l\": {\n",
      "            \"r\": 0.6714285714285714,\n",
      "            \"p\": 0.34814814814814815,\n",
      "            \"f\": 0.45853658086853066\n",
      "        }\n",
      "    }\n",
      "]\n",
      "Number of sentences: 1\n"
     ]
    }
   ],
   "source": [
    "import json\n",
    "from rouge import Rouge\n",
    "rouge = Rouge()\n",
    "scores = rouge.get_scores(summary, reference_summary)\n",
    "print(json.dumps(scores, indent=4))\n",
    " \n",
    "sentences = nltk.sent_tokenize(summary) \n",
    "num_sentences = len(sentences) \n",
    "print(\"Number of sentences:\", num_sentences)"
   ]
  },
  {
   "cell_type": "code",
   "execution_count": 5,
   "id": "c3416e56",
   "metadata": {},
   "outputs": [],
   "source": [
    "import os\n",
    "import json\n",
    "\n",
    "directory = 'results'\n",
    "if not os.path.exists(directory):\n",
    "    os.makedirs(directory)\n",
    "\n",
    "# Save the ROUGE scores to a text file in the new directory\n",
    "file_path = os.path.join(directory, 'lexrank_rouge_scores.txt')\n",
    "with open(file_path, 'w') as file:\n",
    "    file.write(json.dumps(scores))"
   ]
  }
 ],
 "metadata": {
  "kernelspec": {
   "display_name": "Python 3 (ipykernel)",
   "language": "python",
   "name": "python3"
  },
  "language_info": {
   "codemirror_mode": {
    "name": "ipython",
    "version": 3
   },
   "file_extension": ".py",
   "mimetype": "text/x-python",
   "name": "python",
   "nbconvert_exporter": "python",
   "pygments_lexer": "ipython3",
   "version": "3.11.9"
  }
 },
 "nbformat": 4,
 "nbformat_minor": 5
}
